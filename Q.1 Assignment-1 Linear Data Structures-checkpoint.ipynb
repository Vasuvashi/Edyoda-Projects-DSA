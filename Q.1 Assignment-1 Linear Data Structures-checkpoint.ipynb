{
 "cells": [
  {
   "cell_type": "markdown",
   "id": "015fbb9f",
   "metadata": {},
   "source": [
    "# Q1. Write a program to find all pairs of an integer array whose sum is equal to a given number?"
   ]
  },
  {
   "cell_type": "code",
   "execution_count": 35,
   "id": "e7148d92",
   "metadata": {},
   "outputs": [],
   "source": [
    "import numpy as np"
   ]
  },
  {
   "cell_type": "code",
   "execution_count": 41,
   "id": "475ff403",
   "metadata": {},
   "outputs": [],
   "source": [
    "def find_pairs(array, num, sum):   #num is the variable for taking the length of an array, sum is for taking the input of sum\n",
    "    for i in range(num):\n",
    "        for j in range(i+1, num):\n",
    "            if (array[i] + array[j] == sum):\n",
    "                print(f\"({array[i]},{array[j]})\", end = \" \")"
   ]
  },
  {
   "cell_type": "code",
   "execution_count": 42,
   "id": "8fca69b4",
   "metadata": {},
   "outputs": [
    {
     "name": "stdout",
     "output_type": "stream",
     "text": [
      "(-1,8) (-2,9) (-3,10) (0,7) (1,6) (2,5) (3,4) "
     ]
    }
   ],
   "source": [
    "array = np.array([-1,-2,-3,0,1,2,3,4,5,6,7,8,9,10])\n",
    "num = 14\n",
    "sum = 7\n",
    "find_pairs(array,num,sum)"
   ]
  }
 ],
 "metadata": {
  "kernelspec": {
   "display_name": "Python 3 (ipykernel)",
   "language": "python",
   "name": "python3"
  },
  "language_info": {
   "codemirror_mode": {
    "name": "ipython",
    "version": 3
   },
   "file_extension": ".py",
   "mimetype": "text/x-python",
   "name": "python",
   "nbconvert_exporter": "python",
   "pygments_lexer": "ipython3",
   "version": "3.10.9"
  }
 },
 "nbformat": 4,
 "nbformat_minor": 5
}
