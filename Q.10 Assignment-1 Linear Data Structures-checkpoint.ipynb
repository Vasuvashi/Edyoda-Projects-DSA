{
 "cells": [
  {
   "cell_type": "markdown",
   "id": "4e279e37",
   "metadata": {},
   "source": [
    "# Q10. Write a program to find the smallest number using a stack."
   ]
  },
  {
   "cell_type": "code",
   "execution_count": 5,
   "id": "aaef6572",
   "metadata": {},
   "outputs": [],
   "source": [
    "import sys\n",
    " \n",
    "def SmallestNumber(array):\n",
    " \n",
    "    arr_size = len(arr)                   # There should be atleast two elements\n",
    "    if arr_size < 2:\n",
    "        print (\"Invalid Input\")\n",
    "        return\n",
    " \n",
    "    first = second = sys.maxsize\n",
    "    for i in range(0, arr_size):\n",
    " \n",
    "        # If current element is smaller than first then update both first and second\n",
    "        if arr[i] < first:\n",
    "            second = first\n",
    "            first = arr[i]\n",
    " \n",
    "        # If arr[i] is in between first and second then update second\n",
    "        elif (arr[i] < second and arr[i] != first):\n",
    "            second = arr[i];\n",
    " \n",
    "    if (second == sys.maxsize):\n",
    "        print(\"No second smallest element\")\n",
    "    else:\n",
    "        print(\"The smallest element is\",first)"
   ]
  },
  {
   "cell_type": "code",
   "execution_count": 7,
   "id": "faa42a93",
   "metadata": {},
   "outputs": [
    {
     "name": "stdout",
     "output_type": "stream",
     "text": [
      "The smallest element is -1\n"
     ]
    }
   ],
   "source": [
    "arr = [12, 13, 1, 10, 34, -1]\n",
    "SmallestNumber(arr)"
   ]
  }
 ],
 "metadata": {
  "kernelspec": {
   "display_name": "Python 3 (ipykernel)",
   "language": "python",
   "name": "python3"
  },
  "language_info": {
   "codemirror_mode": {
    "name": "ipython",
    "version": 3
   },
   "file_extension": ".py",
   "mimetype": "text/x-python",
   "name": "python",
   "nbconvert_exporter": "python",
   "pygments_lexer": "ipython3",
   "version": "3.10.9"
  }
 },
 "nbformat": 4,
 "nbformat_minor": 5
}
