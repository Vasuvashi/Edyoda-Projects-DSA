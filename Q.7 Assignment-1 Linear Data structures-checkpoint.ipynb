{
 "cells": [
  {
   "cell_type": "markdown",
   "id": "b3d70dd5",
   "metadata": {},
   "source": [
    "# Q7. Write a program to convert prefix expression to infix expression."
   ]
  },
  {
   "cell_type": "code",
   "execution_count": 16,
   "id": "da25e9a7",
   "metadata": {},
   "outputs": [],
   "source": [
    "def isOperator(x):\n",
    "    if x == \"*\" or x == \"+\" or x == \"-\" or x == \"/\" or x == \"^\" or x == \"(\" or x == \")\" or x == \"**\":\n",
    "        return True\n",
    "    else:\n",
    "        return False"
   ]
  },
  {
   "cell_type": "code",
   "execution_count": 37,
   "id": "a3c104a5",
   "metadata": {},
   "outputs": [],
   "source": [
    "def PrefixToInfix(pre_exp):\n",
    "    stack = []\n",
    "\n",
    "    i = len(pre_exp) - 1\n",
    "    while i >= 0:        \n",
    "        if not isOperator(pre_exp[i]):\n",
    "            stack.append(pre_exp[i])              # value is operand\n",
    "            i -= 1\n",
    "        else:\n",
    "            str = \"(\" + stack.pop() + pre_exp[i] + stack.pop() + \")\"                # Value is operator\n",
    "            stack.append(str)\n",
    "            i -= 1\n",
    "            \n",
    "    result = \"\"\n",
    "    for i in stack:\n",
    "        result += i \n",
    "    return result"
   ]
  },
  {
   "cell_type": "code",
   "execution_count": 41,
   "id": "40f6ee83",
   "metadata": {},
   "outputs": [
    {
     "name": "stdout",
     "output_type": "stream",
     "text": [
      "Infix Expression : ((6+4)*(3+1))\n"
     ]
    }
   ],
   "source": [
    "pre_fix = \"*+64+31\" #\"*-A/BC-/AKL\"\n",
    "print(\"Infix Expression :\", PrefixToInfix(pre_fix))"
   ]
  }
 ],
 "metadata": {
  "kernelspec": {
   "display_name": "Python 3 (ipykernel)",
   "language": "python",
   "name": "python3"
  },
  "language_info": {
   "codemirror_mode": {
    "name": "ipython",
    "version": 3
   },
   "file_extension": ".py",
   "mimetype": "text/x-python",
   "name": "python",
   "nbconvert_exporter": "python",
   "pygments_lexer": "ipython3",
   "version": "3.10.9"
  }
 },
 "nbformat": 4,
 "nbformat_minor": 5
}
