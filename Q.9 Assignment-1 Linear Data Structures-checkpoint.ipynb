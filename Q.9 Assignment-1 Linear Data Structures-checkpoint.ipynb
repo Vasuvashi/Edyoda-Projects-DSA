{
 "cells": [
  {
   "cell_type": "markdown",
   "id": "f6bd5e36",
   "metadata": {},
   "source": [
    "# Q9. Write a program to reverse a stack."
   ]
  },
  {
   "cell_type": "code",
   "execution_count": 26,
   "id": "bff720bf",
   "metadata": {},
   "outputs": [],
   "source": [
    "def reverse_stack(stack):\n",
    "        rev_stack = []\n",
    "        for i in range(len(stack)):\n",
    "            pop_element = stack.pop()\n",
    "            rev_stack.append(pop_element)\n",
    "        stack = rev_stack\n",
    "        return (\"After Reversing: \", stack) "
   ]
  },
  {
   "cell_type": "code",
   "execution_count": 27,
   "id": "57db1ad8",
   "metadata": {},
   "outputs": [
    {
     "name": "stdout",
     "output_type": "stream",
     "text": [
      "original Stack :  [5, 4, 3, 2, 1]\n"
     ]
    },
    {
     "data": {
      "text/plain": [
       "('After Reversing: ', [1, 2, 3, 4, 5])"
      ]
     },
     "execution_count": 27,
     "metadata": {},
     "output_type": "execute_result"
    }
   ],
   "source": [
    "stack = []\n",
    "stack.append(5)\n",
    "stack.append(4)\n",
    "stack.append(3)\n",
    "stack.append(2)\n",
    "stack.append(1)\n",
    "print(\"original Stack : \",stack)\n",
    "reverse_stack(stack)"
   ]
  },
  {
   "cell_type": "code",
   "execution_count": null,
   "id": "da67fcbc",
   "metadata": {},
   "outputs": [],
   "source": []
  }
 ],
 "metadata": {
  "kernelspec": {
   "display_name": "Python 3 (ipykernel)",
   "language": "python",
   "name": "python3"
  },
  "language_info": {
   "codemirror_mode": {
    "name": "ipython",
    "version": 3
   },
   "file_extension": ".py",
   "mimetype": "text/x-python",
   "name": "python",
   "nbconvert_exporter": "python",
   "pygments_lexer": "ipython3",
   "version": "3.10.9"
  }
 },
 "nbformat": 4,
 "nbformat_minor": 5
}
