{
 "cells": [
  {
   "cell_type": "markdown",
   "id": "b0c4b3b1",
   "metadata": {},
   "source": [
    "# Q5. Read about the Tower of Hanoi algorithm. Write a program to implement it."
   ]
  },
  {
   "cell_type": "code",
   "execution_count": 24,
   "id": "44fef8c0",
   "metadata": {},
   "outputs": [],
   "source": [
    "def TowerOfHanoi(n, source, destination, auxiliary):\n",
    "    if n == 0:\n",
    "        return (\"There is no disk present\")\n",
    "    \n",
    "    TowerOfHanoi(n-1, source, auxiliary, destination)\n",
    "    print(\"Move disk\", n, \"from Source\", source, \"to destination\", destination)\n",
    "    TowerOfHanoi(n-1, auxiliary, destination, source)\n"
   ]
  },
  {
   "cell_type": "code",
   "execution_count": 25,
   "id": "636ae6bb",
   "metadata": {},
   "outputs": [
    {
     "name": "stdout",
     "output_type": "stream",
     "text": [
      "Move disk 1 from Source S to destination D\n",
      "Move disk 2 from Source S to destination A\n",
      "Move disk 1 from Source D to destination A\n",
      "Move disk 3 from Source S to destination D\n",
      "Move disk 1 from Source A to destination S\n",
      "Move disk 2 from Source A to destination D\n",
      "Move disk 1 from Source S to destination D\n"
     ]
    }
   ],
   "source": [
    "n = 3\n",
    "TowerOfHanoi(n,'S','D','A')"
   ]
  }
 ],
 "metadata": {
  "kernelspec": {
   "display_name": "Python 3 (ipykernel)",
   "language": "python",
   "name": "python3"
  },
  "language_info": {
   "codemirror_mode": {
    "name": "ipython",
    "version": 3
   },
   "file_extension": ".py",
   "mimetype": "text/x-python",
   "name": "python",
   "nbconvert_exporter": "python",
   "pygments_lexer": "ipython3",
   "version": "3.10.9"
  }
 },
 "nbformat": 4,
 "nbformat_minor": 5
}
