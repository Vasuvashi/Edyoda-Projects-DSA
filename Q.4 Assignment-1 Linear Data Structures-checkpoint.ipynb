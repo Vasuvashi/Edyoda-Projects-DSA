{
 "cells": [
  {
   "cell_type": "markdown",
   "id": "e5c7d9f1",
   "metadata": {},
   "source": [
    "# Q4. Write a program to print the first non-repeated character from a string?"
   ]
  },
  {
   "cell_type": "code",
   "execution_count": 3,
   "id": "286127f4",
   "metadata": {},
   "outputs": [],
   "source": [
    "from collections import Counter\n",
    "def firstNonRepeatedCharacter(str):\n",
    "    if len(str) == 0:\n",
    "        return (\"Please provide some input\")\n",
    "    else:\n",
    "        freq = Counter(str)        \n",
    "        for i in str:\n",
    "            if (freq[i] == 1):\n",
    "                return (\"first non-repeating character is \" + i)\n",
    "                break"
   ]
  },
  {
   "cell_type": "code",
   "execution_count": 4,
   "id": "77041cf8",
   "metadata": {},
   "outputs": [
    {
     "data": {
      "text/plain": [
       "'first non-repeating character is f'"
      ]
     },
     "execution_count": 4,
     "metadata": {},
     "output_type": "execute_result"
    }
   ],
   "source": [
    "str = \"geeksforgeeks\"\n",
    "\n",
    "firstNonRepeatedCharacter(str)"
   ]
  }
 ],
 "metadata": {
  "kernelspec": {
   "display_name": "Python 3 (ipykernel)",
   "language": "python",
   "name": "python3"
  },
  "language_info": {
   "codemirror_mode": {
    "name": "ipython",
    "version": 3
   },
   "file_extension": ".py",
   "mimetype": "text/x-python",
   "name": "python",
   "nbconvert_exporter": "python",
   "pygments_lexer": "ipython3",
   "version": "3.10.9"
  }
 },
 "nbformat": 4,
 "nbformat_minor": 5
}
