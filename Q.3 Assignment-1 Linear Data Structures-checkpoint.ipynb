{
 "cells": [
  {
   "cell_type": "markdown",
   "id": "066d12b7",
   "metadata": {},
   "source": [
    "# Q3. Write a program to check if two strings are a rotation of each other?# "
   ]
  },
  {
   "cell_type": "code",
   "execution_count": 3,
   "id": "0ab91392",
   "metadata": {},
   "outputs": [],
   "source": [
    "def checkRotation(str1, str2):\n",
    "    if len(str1) != len(str2):\n",
    "        return (\"Strings are not rotations of each other as length of the strings are not matching\")\n",
    "        \n",
    "    else:\n",
    "        temp = str1 + str1\n",
    "        if (temp.count(str2) > 0):\n",
    "            return (\"Strings are rotations of each other\")\n",
    "        else:\n",
    "            return (\"Strings are not rotations of each other\")"
   ]
  },
  {
   "cell_type": "code",
   "execution_count": 4,
   "id": "62fcac90",
   "metadata": {},
   "outputs": [
    {
     "data": {
      "text/plain": [
       "'Strings are rotations of each other'"
      ]
     },
     "execution_count": 4,
     "metadata": {},
     "output_type": "execute_result"
    }
   ],
   "source": [
    "str1 = \"abcd\"\n",
    "str2 = \"cdab\"\n",
    "checkRotation(str1, str2)"
   ]
  }
 ],
 "metadata": {
  "kernelspec": {
   "display_name": "Python 3 (ipykernel)",
   "language": "python",
   "name": "python3"
  },
  "language_info": {
   "codemirror_mode": {
    "name": "ipython",
    "version": 3
   },
   "file_extension": ".py",
   "mimetype": "text/x-python",
   "name": "python",
   "nbconvert_exporter": "python",
   "pygments_lexer": "ipython3",
   "version": "3.10.9"
  }
 },
 "nbformat": 4,
 "nbformat_minor": 5
}
