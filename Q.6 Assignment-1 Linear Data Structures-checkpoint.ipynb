{
 "cells": [
  {
   "cell_type": "markdown",
   "id": "3112598e",
   "metadata": {},
   "source": [
    "# Q6. Read about infix, prefix, and postfix expressions. Write a program to convert postfix to prefix expression."
   ]
  },
  {
   "cell_type": "code",
   "execution_count": 36,
   "id": "c861620c",
   "metadata": {},
   "outputs": [],
   "source": [
    " def isOperator(x):\n",
    "    if x == \"*\" or x == \"+\" or x == \"-\" or x == \"/\" or x == \"^\" or x == \"(\" or x == \")\" or x == \"**\":\n",
    "        return True\n",
    "    else:\n",
    "        return False"
   ]
  },
  {
   "cell_type": "code",
   "execution_count": 37,
   "id": "add8d353",
   "metadata": {},
   "outputs": [],
   "source": [
    "def PostToPre(Post_exp):\n",
    "    stack = []\n",
    "    length = len(post_exp)\n",
    "    \n",
    "    for i in range(length):\n",
    "        if (isOperator(post_exp[i])):         #element is operator\n",
    "            operand1 = stack[-1]\n",
    "            stack.pop()\n",
    "            operand2 = stack[-1]\n",
    "            stack.pop()\n",
    "            \n",
    "            temp = post_exp[i] + operand2 + operand1\n",
    "            \n",
    "            stack.append(temp)\n",
    "            \n",
    "        else:\n",
    "            stack.append(post_exp[i])           #element is operand\n",
    "            \n",
    "    result = \"\"\n",
    "    for i in stack:\n",
    "        result += i\n",
    "    return result"
   ]
  },
  {
   "cell_type": "code",
   "execution_count": 38,
   "id": "c6d93309",
   "metadata": {},
   "outputs": [
    {
     "name": "stdout",
     "output_type": "stream",
     "text": [
      "Prefix :  -+2*319\n"
     ]
    }
   ],
   "source": [
    "#post_exp = \"23+91-*\"\n",
    "post_exp = \"231*+9-\"\n",
    "print(\"Prefix : \", PostToPre(post_exp))"
   ]
  }
 ],
 "metadata": {
  "kernelspec": {
   "display_name": "Python 3 (ipykernel)",
   "language": "python",
   "name": "python3"
  },
  "language_info": {
   "codemirror_mode": {
    "name": "ipython",
    "version": 3
   },
   "file_extension": ".py",
   "mimetype": "text/x-python",
   "name": "python",
   "nbconvert_exporter": "python",
   "pygments_lexer": "ipython3",
   "version": "3.10.9"
  }
 },
 "nbformat": 4,
 "nbformat_minor": 5
}
