{
 "cells": [
  {
   "cell_type": "markdown",
   "id": "64bb1b5a",
   "metadata": {},
   "source": [
    "# Q8. Write a program to check if all the brackets are closed in a given code snippet."
   ]
  },
  {
   "cell_type": "code",
   "execution_count": 41,
   "id": "4d5bb7af",
   "metadata": {},
   "outputs": [
    {
     "name": "stdout",
     "output_type": "stream",
     "text": [
      "All brackets are closed. Expression is Balanced!!\n"
     ]
    }
   ],
   "source": [
    "def checkBrackets(exp):\n",
    "    stack = []\n",
    "    \n",
    "    for i in exp:\n",
    "        if (i == \"(\" or i == \"[\" or i == \"{\"):\n",
    "            stack.append(i)\n",
    "            continue\n",
    "            \n",
    "        if (len(stack) == 0):\n",
    "            return (\"No expression present\")\n",
    "        \n",
    "        if i == \")\":\n",
    "            stack.pop()\n",
    "            if (i == \"{\" or i == \"[\"):\n",
    "                return False\n",
    "        elif i == \"]\":\n",
    "            stack.pop()\n",
    "            if (i == \"(\" or i == \"{\"):\n",
    "                return False\n",
    "        elif i == \"}\":\n",
    "            stack.pop()\n",
    "            if (i == \"(\" or i == \"[\"):\n",
    "                return False\n",
    "            \n",
    "    if stack:\n",
    "        return False\n",
    "    return True\n",
    "\n",
    "if __name__ == \"__main__\":\n",
    "    #exp = \"{[1+1]+(2*2)-{3/3}\"\n",
    "    exp = \"{[1+1]+(2*2)-{3/3}}\"\n",
    "    if checkBrackets(exp):\n",
    "        print(\"All brackets are closed. Expression is Balanced!!\")\n",
    "    else:\n",
    "        print(\"Brackets are not closed. Expression is not Balanced !!!\")"
   ]
  },
  {
   "cell_type": "code",
   "execution_count": null,
   "id": "cef27d51",
   "metadata": {},
   "outputs": [],
   "source": []
  }
 ],
 "metadata": {
  "kernelspec": {
   "display_name": "Python 3 (ipykernel)",
   "language": "python",
   "name": "python3"
  },
  "language_info": {
   "codemirror_mode": {
    "name": "ipython",
    "version": 3
   },
   "file_extension": ".py",
   "mimetype": "text/x-python",
   "name": "python",
   "nbconvert_exporter": "python",
   "pygments_lexer": "ipython3",
   "version": "3.10.9"
  }
 },
 "nbformat": 4,
 "nbformat_minor": 5
}
